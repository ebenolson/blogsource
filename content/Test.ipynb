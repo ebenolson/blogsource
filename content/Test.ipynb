{
 "metadata": {
  "name": "",
  "signature": "sha256:3abdbb924e8b6ceb16b8d20e8a032c83bf0c439cbc6f4d627804a8b4dd81900c"
 },
 "nbformat": 3,
 "nbformat_minor": 0,
 "worksheets": [
  {
   "cells": [
    {
     "cell_type": "code",
     "collapsed": false,
     "input": [
      "#ignore\n",
      "Title: Test\n",
      "Slug: blah\n",
      "Date: 02-19-2015\n",
      "Category:\n",
      "Tags:\n",
      "Author: Eben Olson\n",
      "Summary:"
     ],
     "language": "python",
     "metadata": {},
     "outputs": []
    },
    {
     "cell_type": "code",
     "collapsed": false,
     "input": [
      "import json"
     ],
     "language": "python",
     "metadata": {},
     "outputs": [],
     "prompt_number": 5
    },
    {
     "cell_type": "code",
     "collapsed": false,
     "input": [
      "#ignore\n",
      "from pelican.readers import MarkdownReader"
     ],
     "language": "python",
     "metadata": {},
     "outputs": [],
     "prompt_number": 19
    }
   ],
   "metadata": {}
  }
 ]
}
{
 "metadata": {
  "name": "",
  "signature": "sha256:c124b3a8255d85a4b5fa340b023a0dfaa736edccc9e21b40cffe5c5a3901674b"
 },
 "nbformat": 3,
 "nbformat_minor": 0,
 "worksheets": [
  {
   "cells": [
    {
     "cell_type": "code",
     "collapsed": false,
     "input": [
      "#ignore\n",
      "Title: \n",
      "Slug: \n",
      "Date: \n",
      "Category:\n",
      "Tags:\n",
      "Author: Eben Olson\n",
      "Summary:"
     ],
     "language": "python",
     "metadata": {},
     "outputs": []
    },
    {
     "cell_type": "code",
     "collapsed": false,
     "input": [],
     "language": "python",
     "metadata": {},
     "outputs": []
    }
   ],
   "metadata": {}
  }
 ]
}